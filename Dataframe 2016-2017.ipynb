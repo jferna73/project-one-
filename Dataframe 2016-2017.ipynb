{
 "cells": [
  {
   "cell_type": "code",
   "execution_count": null,
   "metadata": {},
   "outputs": [],
   "source": []
  },
  {
   "cell_type": "code",
   "execution_count": 1,
   "metadata": {},
   "outputs": [
    {
     "data": {
      "text/plain": [
       "'1.0.3'"
      ]
     },
     "execution_count": 1,
     "metadata": {},
     "output_type": "execute_result"
    }
   ],
   "source": [
    "import pandas as pd\n",
    "pd.__version__"
   ]
  },
  {
   "cell_type": "code",
   "execution_count": 7,
   "metadata": {},
   "outputs": [
    {
     "data": {
      "text/html": [
       "<div>\n",
       "<style scoped>\n",
       "    .dataframe tbody tr th:only-of-type {\n",
       "        vertical-align: middle;\n",
       "    }\n",
       "\n",
       "    .dataframe tbody tr th {\n",
       "        vertical-align: top;\n",
       "    }\n",
       "\n",
       "    .dataframe thead th {\n",
       "        text-align: right;\n",
       "    }\n",
       "</style>\n",
       "<table border=\"1\" class=\"dataframe\">\n",
       "  <thead>\n",
       "    <tr style=\"text-align: right;\">\n",
       "      <th></th>\n",
       "      <th>Rk</th>\n",
       "      <th>G</th>\n",
       "      <th>Date</th>\n",
       "      <th>Age</th>\n",
       "      <th>Tm</th>\n",
       "      <th></th>\n",
       "      <th>Opp</th>\n",
       "      <th>.1</th>\n",
       "      <th>GS</th>\n",
       "      <th>MP</th>\n",
       "      <th>...</th>\n",
       "      <th>DRB</th>\n",
       "      <th>TRB</th>\n",
       "      <th>AST</th>\n",
       "      <th>STL</th>\n",
       "      <th>BLK</th>\n",
       "      <th>TOV</th>\n",
       "      <th>PF</th>\n",
       "      <th>PTS</th>\n",
       "      <th>GmSc</th>\n",
       "      <th>+/-</th>\n",
       "    </tr>\n",
       "  </thead>\n",
       "  <tbody>\n",
       "    <tr>\n",
       "      <th>0</th>\n",
       "      <td>1</td>\n",
       "      <td>1.0</td>\n",
       "      <td>2016-10-26</td>\n",
       "      <td>25-067</td>\n",
       "      <td>TOR</td>\n",
       "      <td>NaN</td>\n",
       "      <td>DET</td>\n",
       "      <td>W (+18)</td>\n",
       "      <td>0</td>\n",
       "      <td>21:36</td>\n",
       "      <td>...</td>\n",
       "      <td>2.0</td>\n",
       "      <td>4.0</td>\n",
       "      <td>2.0</td>\n",
       "      <td>1.0</td>\n",
       "      <td>0.0</td>\n",
       "      <td>1.0</td>\n",
       "      <td>1.0</td>\n",
       "      <td>6.0</td>\n",
       "      <td>6.0</td>\n",
       "      <td>12</td>\n",
       "    </tr>\n",
       "    <tr>\n",
       "      <th>1</th>\n",
       "      <td>2</td>\n",
       "      <td>2.0</td>\n",
       "      <td>2016-10-28</td>\n",
       "      <td>25-069</td>\n",
       "      <td>TOR</td>\n",
       "      <td>NaN</td>\n",
       "      <td>CLE</td>\n",
       "      <td>L (-3)</td>\n",
       "      <td>0</td>\n",
       "      <td>20:43</td>\n",
       "      <td>...</td>\n",
       "      <td>1.0</td>\n",
       "      <td>1.0</td>\n",
       "      <td>1.0</td>\n",
       "      <td>1.0</td>\n",
       "      <td>0.0</td>\n",
       "      <td>3.0</td>\n",
       "      <td>0.0</td>\n",
       "      <td>8.0</td>\n",
       "      <td>3.7</td>\n",
       "      <td>7</td>\n",
       "    </tr>\n",
       "    <tr>\n",
       "      <th>2</th>\n",
       "      <td>3</td>\n",
       "      <td>3.0</td>\n",
       "      <td>2016-10-31</td>\n",
       "      <td>25-072</td>\n",
       "      <td>TOR</td>\n",
       "      <td>NaN</td>\n",
       "      <td>DEN</td>\n",
       "      <td>W (+3)</td>\n",
       "      <td>0</td>\n",
       "      <td>23:36</td>\n",
       "      <td>...</td>\n",
       "      <td>2.0</td>\n",
       "      <td>3.0</td>\n",
       "      <td>4.0</td>\n",
       "      <td>1.0</td>\n",
       "      <td>0.0</td>\n",
       "      <td>1.0</td>\n",
       "      <td>3.0</td>\n",
       "      <td>6.0</td>\n",
       "      <td>4.5</td>\n",
       "      <td>-6</td>\n",
       "    </tr>\n",
       "    <tr>\n",
       "      <th>3</th>\n",
       "      <td>4</td>\n",
       "      <td>4.0</td>\n",
       "      <td>2016-11-02</td>\n",
       "      <td>25-074</td>\n",
       "      <td>TOR</td>\n",
       "      <td>@</td>\n",
       "      <td>WAS</td>\n",
       "      <td>W (+10)</td>\n",
       "      <td>0</td>\n",
       "      <td>16:59</td>\n",
       "      <td>...</td>\n",
       "      <td>1.0</td>\n",
       "      <td>1.0</td>\n",
       "      <td>3.0</td>\n",
       "      <td>3.0</td>\n",
       "      <td>0.0</td>\n",
       "      <td>2.0</td>\n",
       "      <td>0.0</td>\n",
       "      <td>4.0</td>\n",
       "      <td>5.4</td>\n",
       "      <td>-1</td>\n",
       "    </tr>\n",
       "    <tr>\n",
       "      <th>4</th>\n",
       "      <td>5</td>\n",
       "      <td>5.0</td>\n",
       "      <td>2016-11-04</td>\n",
       "      <td>25-076</td>\n",
       "      <td>TOR</td>\n",
       "      <td>NaN</td>\n",
       "      <td>MIA</td>\n",
       "      <td>W (+9)</td>\n",
       "      <td>0</td>\n",
       "      <td>12:47</td>\n",
       "      <td>...</td>\n",
       "      <td>4.0</td>\n",
       "      <td>4.0</td>\n",
       "      <td>3.0</td>\n",
       "      <td>0.0</td>\n",
       "      <td>0.0</td>\n",
       "      <td>1.0</td>\n",
       "      <td>1.0</td>\n",
       "      <td>2.0</td>\n",
       "      <td>1.5</td>\n",
       "      <td>3</td>\n",
       "    </tr>\n",
       "  </tbody>\n",
       "</table>\n",
       "<p>5 rows × 30 columns</p>\n",
       "</div>"
      ],
      "text/plain": [
       "   Rk    G        Date     Age   Tm       Opp       .1 GS     MP  ...  DRB  \\\n",
       "0   1  1.0  2016-10-26  25-067  TOR  NaN  DET  W (+18)  0  21:36  ...  2.0   \n",
       "1   2  2.0  2016-10-28  25-069  TOR  NaN  CLE   L (-3)  0  20:43  ...  1.0   \n",
       "2   3  3.0  2016-10-31  25-072  TOR  NaN  DEN   W (+3)  0  23:36  ...  2.0   \n",
       "3   4  4.0  2016-11-02  25-074  TOR    @  WAS  W (+10)  0  16:59  ...  1.0   \n",
       "4   5  5.0  2016-11-04  25-076  TOR  NaN  MIA   W (+9)  0  12:47  ...  4.0   \n",
       "\n",
       "   TRB  AST  STL  BLK  TOV   PF  PTS  GmSc  +/-  \n",
       "0  4.0  2.0  1.0  0.0  1.0  1.0  6.0   6.0   12  \n",
       "1  1.0  1.0  1.0  0.0  3.0  0.0  8.0   3.7    7  \n",
       "2  3.0  4.0  1.0  0.0  1.0  3.0  6.0   4.5   -6  \n",
       "3  1.0  3.0  3.0  0.0  2.0  0.0  4.0   5.4   -1  \n",
       "4  4.0  3.0  0.0  0.0  1.0  1.0  2.0   1.5    3  \n",
       "\n",
       "[5 rows x 30 columns]"
      ]
     },
     "execution_count": 7,
     "metadata": {},
     "output_type": "execute_result"
    }
   ],
   "source": [
    "df = pd.read_csv(\"Reg_Cory_Joseph_2016-2017.csv\")\n",
    "df.head()"
   ]
  },
  {
   "cell_type": "code",
   "execution_count": 8,
   "metadata": {},
   "outputs": [
    {
     "data": {
      "text/plain": [
       "Index(['Rk', 'G', 'Date', 'Age', 'Tm', ' ', 'Opp', ' .1', 'GS', 'MP', 'FG',\n",
       "       'FGA', 'FG%', '3P', '3PA', '3P%', 'FT', 'FTA', 'FT%', 'ORB', 'DRB',\n",
       "       'TRB', 'AST', 'STL', 'BLK', 'TOV', 'PF', 'PTS', 'GmSc', '+/-'],\n",
       "      dtype='object')"
      ]
     },
     "execution_count": 8,
     "metadata": {},
     "output_type": "execute_result"
    }
   ],
   "source": [
    "df.columns"
   ]
  },
  {
   "cell_type": "code",
   "execution_count": 10,
   "metadata": {},
   "outputs": [
    {
     "data": {
      "text/html": [
       "<div>\n",
       "<style scoped>\n",
       "    .dataframe tbody tr th:only-of-type {\n",
       "        vertical-align: middle;\n",
       "    }\n",
       "\n",
       "    .dataframe tbody tr th {\n",
       "        vertical-align: top;\n",
       "    }\n",
       "\n",
       "    .dataframe thead th {\n",
       "        text-align: right;\n",
       "    }\n",
       "</style>\n",
       "<table border=\"1\" class=\"dataframe\">\n",
       "  <thead>\n",
       "    <tr style=\"text-align: right;\">\n",
       "      <th></th>\n",
       "      <th>Date</th>\n",
       "      <th>Age</th>\n",
       "      <th>Tm</th>\n",
       "      <th></th>\n",
       "      <th>Opp</th>\n",
       "      <th>.1</th>\n",
       "      <th>GS</th>\n",
       "      <th>MP</th>\n",
       "      <th>FG</th>\n",
       "      <th>FGA</th>\n",
       "      <th>FG%</th>\n",
       "      <th>3P</th>\n",
       "      <th>3PA</th>\n",
       "    </tr>\n",
       "  </thead>\n",
       "  <tbody>\n",
       "    <tr>\n",
       "      <th>0</th>\n",
       "      <td>2016-10-26</td>\n",
       "      <td>25-067</td>\n",
       "      <td>TOR</td>\n",
       "      <td>NaN</td>\n",
       "      <td>DET</td>\n",
       "      <td>W (+18)</td>\n",
       "      <td>0</td>\n",
       "      <td>21:36</td>\n",
       "      <td>3.0</td>\n",
       "      <td>6.0</td>\n",
       "      <td>0.500</td>\n",
       "      <td>0.0</td>\n",
       "      <td>0.0</td>\n",
       "    </tr>\n",
       "    <tr>\n",
       "      <th>1</th>\n",
       "      <td>2016-10-28</td>\n",
       "      <td>25-069</td>\n",
       "      <td>TOR</td>\n",
       "      <td>NaN</td>\n",
       "      <td>CLE</td>\n",
       "      <td>L (-3)</td>\n",
       "      <td>0</td>\n",
       "      <td>20:43</td>\n",
       "      <td>4.0</td>\n",
       "      <td>7.0</td>\n",
       "      <td>0.571</td>\n",
       "      <td>0.0</td>\n",
       "      <td>0.0</td>\n",
       "    </tr>\n",
       "    <tr>\n",
       "      <th>2</th>\n",
       "      <td>2016-10-31</td>\n",
       "      <td>25-072</td>\n",
       "      <td>TOR</td>\n",
       "      <td>NaN</td>\n",
       "      <td>DEN</td>\n",
       "      <td>W (+3)</td>\n",
       "      <td>0</td>\n",
       "      <td>23:36</td>\n",
       "      <td>3.0</td>\n",
       "      <td>8.0</td>\n",
       "      <td>0.375</td>\n",
       "      <td>0.0</td>\n",
       "      <td>1.0</td>\n",
       "    </tr>\n",
       "    <tr>\n",
       "      <th>3</th>\n",
       "      <td>2016-11-02</td>\n",
       "      <td>25-074</td>\n",
       "      <td>TOR</td>\n",
       "      <td>@</td>\n",
       "      <td>WAS</td>\n",
       "      <td>W (+10)</td>\n",
       "      <td>0</td>\n",
       "      <td>16:59</td>\n",
       "      <td>2.0</td>\n",
       "      <td>4.0</td>\n",
       "      <td>0.500</td>\n",
       "      <td>0.0</td>\n",
       "      <td>1.0</td>\n",
       "    </tr>\n",
       "    <tr>\n",
       "      <th>4</th>\n",
       "      <td>2016-11-04</td>\n",
       "      <td>25-076</td>\n",
       "      <td>TOR</td>\n",
       "      <td>NaN</td>\n",
       "      <td>MIA</td>\n",
       "      <td>W (+9)</td>\n",
       "      <td>0</td>\n",
       "      <td>12:47</td>\n",
       "      <td>1.0</td>\n",
       "      <td>4.0</td>\n",
       "      <td>0.250</td>\n",
       "      <td>0.0</td>\n",
       "      <td>2.0</td>\n",
       "    </tr>\n",
       "  </tbody>\n",
       "</table>\n",
       "</div>"
      ],
      "text/plain": [
       "         Date     Age   Tm       Opp       .1 GS     MP   FG  FGA    FG%   3P  \\\n",
       "0  2016-10-26  25-067  TOR  NaN  DET  W (+18)  0  21:36  3.0  6.0  0.500  0.0   \n",
       "1  2016-10-28  25-069  TOR  NaN  CLE   L (-3)  0  20:43  4.0  7.0  0.571  0.0   \n",
       "2  2016-10-31  25-072  TOR  NaN  DEN   W (+3)  0  23:36  3.0  8.0  0.375  0.0   \n",
       "3  2016-11-02  25-074  TOR    @  WAS  W (+10)  0  16:59  2.0  4.0  0.500  0.0   \n",
       "4  2016-11-04  25-076  TOR  NaN  MIA   W (+9)  0  12:47  1.0  4.0  0.250  0.0   \n",
       "\n",
       "   3PA  \n",
       "0  0.0  \n",
       "1  0.0  \n",
       "2  1.0  \n",
       "3  1.0  \n",
       "4  2.0  "
      ]
     },
     "execution_count": 10,
     "metadata": {},
     "output_type": "execute_result"
    }
   ],
   "source": [
    "df = df.drop(columns=[\n",
    "    \"Rk\", \"G\", '3P%', 'FT', 'FTA', 'FT%', 'ORB', 'DRB',\n",
    "       'TRB', 'AST', 'STL', 'BLK', 'TOV', 'PF', 'PTS', 'GmSc', '+/-'\n",
    "])\n",
    "df.head()"
   ]
  },
  {
   "cell_type": "code",
   "execution_count": 11,
   "metadata": {},
   "outputs": [
    {
     "data": {
      "text/plain": [
       "Date     object\n",
       "Age      object\n",
       "Tm       object\n",
       "         object\n",
       "Opp      object\n",
       " .1      object\n",
       "GS       object\n",
       "MP       object\n",
       "FG      float64\n",
       "FGA     float64\n",
       "FG%     float64\n",
       "3P      float64\n",
       "3PA     float64\n",
       "dtype: object"
      ]
     },
     "execution_count": 11,
     "metadata": {},
     "output_type": "execute_result"
    }
   ],
   "source": [
    "df.dtypes"
   ]
  },
  {
   "cell_type": "code",
   "execution_count": 17,
   "metadata": {},
   "outputs": [
    {
     "data": {
      "text/plain": [
       "Date    datetime64[ns]\n",
       "Age             object\n",
       "Tm              object\n",
       "                object\n",
       "Opp             object\n",
       " .1             object\n",
       "GS              object\n",
       "MP              object\n",
       "FG             float64\n",
       "FGA            float64\n",
       "FG%            float64\n",
       "3P             float64\n",
       "3PA            float64\n",
       "dtype: object"
      ]
     },
     "execution_count": 17,
     "metadata": {},
     "output_type": "execute_result"
    }
   ],
   "source": [
    "df[\"Date\"] = pd.to_datetime(df[\"Date\"], format=\"%Y-%m-%d\")\n",
    "df.dtypes"
   ]
  },
  {
   "cell_type": "code",
   "execution_count": 20,
   "metadata": {},
   "outputs": [
    {
     "data": {
      "text/plain": [
       "0    2016-10-26\n",
       "1    2016-10-28\n",
       "2    2016-10-31\n",
       "3    2016-11-02\n",
       "4    2016-11-04\n",
       "        ...    \n",
       "87   2017-04-27\n",
       "88   2017-05-01\n",
       "89   2017-05-03\n",
       "90   2017-05-05\n",
       "91   2017-05-07\n",
       "Name: Date, Length: 92, dtype: datetime64[ns]"
      ]
     },
     "execution_count": 20,
     "metadata": {},
     "output_type": "execute_result"
    }
   ],
   "source": [
    "df[\"Date\"]"
   ]
  },
  {
   "cell_type": "code",
   "execution_count": 21,
   "metadata": {},
   "outputs": [
    {
     "data": {
      "text/plain": [
       "0     2016\n",
       "1     2016\n",
       "2     2016\n",
       "3     2016\n",
       "4     2016\n",
       "      ... \n",
       "87    2017\n",
       "88    2017\n",
       "89    2017\n",
       "90    2017\n",
       "91    2017\n",
       "Name: Date, Length: 92, dtype: int64"
      ]
     },
     "execution_count": 21,
     "metadata": {},
     "output_type": "execute_result"
    }
   ],
   "source": [
    "df[\"Date\"].dt.year"
   ]
  },
  {
   "cell_type": "code",
   "execution_count": 22,
   "metadata": {
    "scrolled": true
   },
   "outputs": [
    {
     "data": {
      "text/plain": [
       "0     10\n",
       "1     10\n",
       "2     10\n",
       "3     11\n",
       "4     11\n",
       "      ..\n",
       "87     4\n",
       "88     5\n",
       "89     5\n",
       "90     5\n",
       "91     5\n",
       "Name: Date, Length: 92, dtype: int64"
      ]
     },
     "execution_count": 22,
     "metadata": {},
     "output_type": "execute_result"
    }
   ],
   "source": [
    "df[\"Date\"].dt.month"
   ]
  },
  {
   "cell_type": "code",
   "execution_count": 23,
   "metadata": {},
   "outputs": [
    {
     "data": {
      "text/plain": [
       "0     26\n",
       "1     28\n",
       "2     31\n",
       "3      2\n",
       "4      4\n",
       "      ..\n",
       "87    27\n",
       "88     1\n",
       "89     3\n",
       "90     5\n",
       "91     7\n",
       "Name: Date, Length: 92, dtype: int64"
      ]
     },
     "execution_count": 23,
     "metadata": {},
     "output_type": "execute_result"
    }
   ],
   "source": [
    "df[\"Date\"].dt.day"
   ]
  },
  {
   "cell_type": "code",
   "execution_count": 24,
   "metadata": {},
   "outputs": [
    {
     "data": {
      "text/plain": [
       "0     2\n",
       "1     4\n",
       "2     0\n",
       "3     2\n",
       "4     4\n",
       "     ..\n",
       "87    3\n",
       "88    0\n",
       "89    2\n",
       "90    4\n",
       "91    6\n",
       "Name: Date, Length: 92, dtype: int64"
      ]
     },
     "execution_count": 24,
     "metadata": {},
     "output_type": "execute_result"
    }
   ],
   "source": [
    "df[\"Date\"].dt.weekday"
   ]
  },
  {
   "cell_type": "code",
   "execution_count": 27,
   "metadata": {},
   "outputs": [
    {
     "data": {
      "text/plain": [
       "0     Wednesday\n",
       "1        Friday\n",
       "2        Monday\n",
       "3     Wednesday\n",
       "4        Friday\n",
       "        ...    \n",
       "87     Thursday\n",
       "88       Monday\n",
       "89    Wednesday\n",
       "90       Friday\n",
       "91       Sunday\n",
       "Name: Date, Length: 92, dtype: object"
      ]
     },
     "execution_count": 27,
     "metadata": {},
     "output_type": "execute_result"
    }
   ],
   "source": [
    "df[\"Date\"].dt.day_name()"
   ]
  },
  {
   "cell_type": "code",
   "execution_count": 28,
   "metadata": {},
   "outputs": [
    {
     "data": {
      "text/html": [
       "<div>\n",
       "<style scoped>\n",
       "    .dataframe tbody tr th:only-of-type {\n",
       "        vertical-align: middle;\n",
       "    }\n",
       "\n",
       "    .dataframe tbody tr th {\n",
       "        vertical-align: top;\n",
       "    }\n",
       "\n",
       "    .dataframe thead th {\n",
       "        text-align: right;\n",
       "    }\n",
       "</style>\n",
       "<table border=\"1\" class=\"dataframe\">\n",
       "  <thead>\n",
       "    <tr style=\"text-align: right;\">\n",
       "      <th></th>\n",
       "      <th>Date</th>\n",
       "      <th>Age</th>\n",
       "      <th>Tm</th>\n",
       "      <th></th>\n",
       "      <th>Opp</th>\n",
       "      <th>.1</th>\n",
       "      <th>GS</th>\n",
       "      <th>MP</th>\n",
       "      <th>FG</th>\n",
       "      <th>FGA</th>\n",
       "      <th>FG%</th>\n",
       "      <th>3P</th>\n",
       "      <th>3PA</th>\n",
       "    </tr>\n",
       "  </thead>\n",
       "  <tbody>\n",
       "    <tr>\n",
       "      <th>0</th>\n",
       "      <td>2016-10-26</td>\n",
       "      <td>25-067</td>\n",
       "      <td>TOR</td>\n",
       "      <td>NaN</td>\n",
       "      <td>DET</td>\n",
       "      <td>W (+18)</td>\n",
       "      <td>0</td>\n",
       "      <td>21:36</td>\n",
       "      <td>3.0</td>\n",
       "      <td>6.0</td>\n",
       "      <td>0.500</td>\n",
       "      <td>0.0</td>\n",
       "      <td>0.0</td>\n",
       "    </tr>\n",
       "    <tr>\n",
       "      <th>1</th>\n",
       "      <td>2016-10-28</td>\n",
       "      <td>25-069</td>\n",
       "      <td>TOR</td>\n",
       "      <td>NaN</td>\n",
       "      <td>CLE</td>\n",
       "      <td>L (-3)</td>\n",
       "      <td>0</td>\n",
       "      <td>20:43</td>\n",
       "      <td>4.0</td>\n",
       "      <td>7.0</td>\n",
       "      <td>0.571</td>\n",
       "      <td>0.0</td>\n",
       "      <td>0.0</td>\n",
       "    </tr>\n",
       "    <tr>\n",
       "      <th>2</th>\n",
       "      <td>2016-10-31</td>\n",
       "      <td>25-072</td>\n",
       "      <td>TOR</td>\n",
       "      <td>NaN</td>\n",
       "      <td>DEN</td>\n",
       "      <td>W (+3)</td>\n",
       "      <td>0</td>\n",
       "      <td>23:36</td>\n",
       "      <td>3.0</td>\n",
       "      <td>8.0</td>\n",
       "      <td>0.375</td>\n",
       "      <td>0.0</td>\n",
       "      <td>1.0</td>\n",
       "    </tr>\n",
       "    <tr>\n",
       "      <th>3</th>\n",
       "      <td>2016-11-02</td>\n",
       "      <td>25-074</td>\n",
       "      <td>TOR</td>\n",
       "      <td>@</td>\n",
       "      <td>WAS</td>\n",
       "      <td>W (+10)</td>\n",
       "      <td>0</td>\n",
       "      <td>16:59</td>\n",
       "      <td>2.0</td>\n",
       "      <td>4.0</td>\n",
       "      <td>0.500</td>\n",
       "      <td>0.0</td>\n",
       "      <td>1.0</td>\n",
       "    </tr>\n",
       "    <tr>\n",
       "      <th>4</th>\n",
       "      <td>2016-11-04</td>\n",
       "      <td>25-076</td>\n",
       "      <td>TOR</td>\n",
       "      <td>NaN</td>\n",
       "      <td>MIA</td>\n",
       "      <td>W (+9)</td>\n",
       "      <td>0</td>\n",
       "      <td>12:47</td>\n",
       "      <td>1.0</td>\n",
       "      <td>4.0</td>\n",
       "      <td>0.250</td>\n",
       "      <td>0.0</td>\n",
       "      <td>2.0</td>\n",
       "    </tr>\n",
       "  </tbody>\n",
       "</table>\n",
       "</div>"
      ],
      "text/plain": [
       "        Date     Age   Tm       Opp       .1 GS     MP   FG  FGA    FG%   3P  \\\n",
       "0 2016-10-26  25-067  TOR  NaN  DET  W (+18)  0  21:36  3.0  6.0  0.500  0.0   \n",
       "1 2016-10-28  25-069  TOR  NaN  CLE   L (-3)  0  20:43  4.0  7.0  0.571  0.0   \n",
       "2 2016-10-31  25-072  TOR  NaN  DEN   W (+3)  0  23:36  3.0  8.0  0.375  0.0   \n",
       "3 2016-11-02  25-074  TOR    @  WAS  W (+10)  0  16:59  2.0  4.0  0.500  0.0   \n",
       "4 2016-11-04  25-076  TOR  NaN  MIA   W (+9)  0  12:47  1.0  4.0  0.250  0.0   \n",
       "\n",
       "   3PA  \n",
       "0  0.0  \n",
       "1  0.0  \n",
       "2  1.0  \n",
       "3  1.0  \n",
       "4  2.0  "
      ]
     },
     "execution_count": 28,
     "metadata": {},
     "output_type": "execute_result"
    }
   ],
   "source": [
    "df.head()"
   ]
  },
  {
   "cell_type": "code",
   "execution_count": null,
   "metadata": {},
   "outputs": [],
   "source": []
  }
 ],
 "metadata": {
  "kernelspec": {
   "display_name": "Python 3",
   "language": "python",
   "name": "python3"
  },
  "language_info": {
   "codemirror_mode": {
    "name": "ipython",
    "version": 3
   },
   "file_extension": ".py",
   "mimetype": "text/x-python",
   "name": "python",
   "nbconvert_exporter": "python",
   "pygments_lexer": "ipython3",
   "version": "3.7.4"
  }
 },
 "nbformat": 4,
 "nbformat_minor": 2
}
